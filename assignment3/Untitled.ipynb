{
 "cells": [
  {
   "cell_type": "code",
   "execution_count": 2,
   "metadata": {},
   "outputs": [],
   "source": [
    "import pandas as pd\n",
    "import numpy as np\n",
    "import matplotlib.pyplot as plt\n",
    "%matplotlib inline"
   ]
  },
  {
   "cell_type": "code",
   "execution_count": 7,
   "metadata": {},
   "outputs": [],
   "source": [
    "url = 'https://web.stanford.edu/~hastie/ElemStatLearn/datasets/prostate.data'\n",
    "df = pd.read_csv(url, sep='\\t', header=0)\n",
    "df = df.drop('Unnamed: 0', axis=1)   # skip the column of indices"
   ]
  },
  {
   "cell_type": "code",
   "execution_count": 8,
   "metadata": {},
   "outputs": [
    {
     "data": {
      "text/html": [
       "<div>\n",
       "<style scoped>\n",
       "    .dataframe tbody tr th:only-of-type {\n",
       "        vertical-align: middle;\n",
       "    }\n",
       "\n",
       "    .dataframe tbody tr th {\n",
       "        vertical-align: top;\n",
       "    }\n",
       "\n",
       "    .dataframe thead th {\n",
       "        text-align: right;\n",
       "    }\n",
       "</style>\n",
       "<table border=\"1\" class=\"dataframe\">\n",
       "  <thead>\n",
       "    <tr style=\"text-align: right;\">\n",
       "      <th></th>\n",
       "      <th>lcavol</th>\n",
       "      <th>lweight</th>\n",
       "      <th>age</th>\n",
       "      <th>lbph</th>\n",
       "      <th>svi</th>\n",
       "      <th>lcp</th>\n",
       "      <th>gleason</th>\n",
       "      <th>pgg45</th>\n",
       "      <th>lpsa</th>\n",
       "      <th>train</th>\n",
       "    </tr>\n",
       "  </thead>\n",
       "  <tbody>\n",
       "    <tr>\n",
       "      <th>0</th>\n",
       "      <td>-0.579818</td>\n",
       "      <td>2.769459</td>\n",
       "      <td>50</td>\n",
       "      <td>-1.386294</td>\n",
       "      <td>0</td>\n",
       "      <td>-1.386294</td>\n",
       "      <td>6</td>\n",
       "      <td>0</td>\n",
       "      <td>-0.430783</td>\n",
       "      <td>T</td>\n",
       "    </tr>\n",
       "    <tr>\n",
       "      <th>1</th>\n",
       "      <td>-0.994252</td>\n",
       "      <td>3.319626</td>\n",
       "      <td>58</td>\n",
       "      <td>-1.386294</td>\n",
       "      <td>0</td>\n",
       "      <td>-1.386294</td>\n",
       "      <td>6</td>\n",
       "      <td>0</td>\n",
       "      <td>-0.162519</td>\n",
       "      <td>T</td>\n",
       "    </tr>\n",
       "    <tr>\n",
       "      <th>2</th>\n",
       "      <td>-0.510826</td>\n",
       "      <td>2.691243</td>\n",
       "      <td>74</td>\n",
       "      <td>-1.386294</td>\n",
       "      <td>0</td>\n",
       "      <td>-1.386294</td>\n",
       "      <td>7</td>\n",
       "      <td>20</td>\n",
       "      <td>-0.162519</td>\n",
       "      <td>T</td>\n",
       "    </tr>\n",
       "    <tr>\n",
       "      <th>3</th>\n",
       "      <td>-1.203973</td>\n",
       "      <td>3.282789</td>\n",
       "      <td>58</td>\n",
       "      <td>-1.386294</td>\n",
       "      <td>0</td>\n",
       "      <td>-1.386294</td>\n",
       "      <td>6</td>\n",
       "      <td>0</td>\n",
       "      <td>-0.162519</td>\n",
       "      <td>T</td>\n",
       "    </tr>\n",
       "    <tr>\n",
       "      <th>4</th>\n",
       "      <td>0.751416</td>\n",
       "      <td>3.432373</td>\n",
       "      <td>62</td>\n",
       "      <td>-1.386294</td>\n",
       "      <td>0</td>\n",
       "      <td>-1.386294</td>\n",
       "      <td>6</td>\n",
       "      <td>0</td>\n",
       "      <td>0.371564</td>\n",
       "      <td>T</td>\n",
       "    </tr>\n",
       "    <tr>\n",
       "      <th>5</th>\n",
       "      <td>-1.049822</td>\n",
       "      <td>3.228826</td>\n",
       "      <td>50</td>\n",
       "      <td>-1.386294</td>\n",
       "      <td>0</td>\n",
       "      <td>-1.386294</td>\n",
       "      <td>6</td>\n",
       "      <td>0</td>\n",
       "      <td>0.765468</td>\n",
       "      <td>T</td>\n",
       "    </tr>\n",
       "  </tbody>\n",
       "</table>\n",
       "</div>"
      ],
      "text/plain": [
       "     lcavol   lweight  age      lbph  svi       lcp  gleason  pgg45      lpsa  \\\n",
       "0 -0.579818  2.769459   50 -1.386294    0 -1.386294        6      0 -0.430783   \n",
       "1 -0.994252  3.319626   58 -1.386294    0 -1.386294        6      0 -0.162519   \n",
       "2 -0.510826  2.691243   74 -1.386294    0 -1.386294        7     20 -0.162519   \n",
       "3 -1.203973  3.282789   58 -1.386294    0 -1.386294        6      0 -0.162519   \n",
       "4  0.751416  3.432373   62 -1.386294    0 -1.386294        6      0  0.371564   \n",
       "5 -1.049822  3.228826   50 -1.386294    0 -1.386294        6      0  0.765468   \n",
       "\n",
       "  train  \n",
       "0     T  \n",
       "1     T  \n",
       "2     T  \n",
       "3     T  \n",
       "4     T  \n",
       "5     T  "
      ]
     },
     "execution_count": 8,
     "metadata": {},
     "output_type": "execute_result"
    }
   ],
   "source": [
    "df.head(6)"
   ]
  },
  {
   "cell_type": "code",
   "execution_count": 20,
   "metadata": {},
   "outputs": [
    {
     "name": "stdout",
     "output_type": "stream",
     "text": [
      "Target Vairbale: lpsa\n",
      "Predictors: ['lcavol', 'lweight', 'age', 'lbph', 'svi', 'lcp', 'gleason']\n"
     ]
    },
    {
     "data": {
      "text/plain": [
       "(97, 7)"
      ]
     },
     "execution_count": 20,
     "metadata": {},
     "output_type": "execute_result"
    }
   ],
   "source": [
    "names = df.columns.tolist()\n",
    "names_x = names[0:7]\n",
    "names_y = names[8]\n",
    "print(\"Target Vairbale: %s\"%names_y)\n",
    "print(\"Predictors: \"+str(names_x))\n",
    "\n",
    "x0 = np.array(df[names_x])\n",
    "y0 = np.array(df[names_y])\n",
    "nsamp = x0.shape[0]\n",
    "nfeatures = x0.shape[1]\n",
    "x0.shape"
   ]
  },
  {
   "cell_type": "code",
   "execution_count": 26,
   "metadata": {},
   "outputs": [],
   "source": [
    "import sklearn.preprocessing\n",
    "\n",
    "x = sklearn.preprocessing.scale(x0)\n",
    "y = sklearn.preprocessing.scale(y0)"
   ]
  },
  {
   "cell_type": "code",
   "execution_count": 28,
   "metadata": {},
   "outputs": [],
   "source": [
    "from sklearn import linear_model\n",
    "from sklearn.model_selection import train_test_splitimport  sklearn.model_selection\n"
   ]
  },
  {
   "cell_type": "code",
   "execution_count": 32,
   "metadata": {},
   "outputs": [
    {
     "name": "stdout",
     "output_type": "stream",
     "text": [
      "num samples train = 48 test=49\n"
     ]
    }
   ],
   "source": [
    "xtr,xts,ytr,yts = train_test_split(x,y,test_size = 0.5, shuffle = True)\n",
    "ntr = xtr.shape[0]\n",
    "nts = xts.shape[0]\n",
    "print(\"num samples train = %d test=%d\"%(ntr,nts))\n"
   ]
  },
  {
   "cell_type": "code",
   "execution_count": 35,
   "metadata": {},
   "outputs": [
    {
     "data": {
      "text/plain": [
       "LinearRegression(copy_X=True, fit_intercept=True, n_jobs=None,\n",
       "         normalize=False)"
      ]
     },
     "execution_count": 35,
     "metadata": {},
     "output_type": "execute_result"
    }
   ],
   "source": [
    "regr = linear_model.LinearRegression()\n",
    "regr.fit(xtr,ytr)"
   ]
  },
  {
   "cell_type": "code",
   "execution_count": 37,
   "metadata": {},
   "outputs": [
    {
     "name": "stdout",
     "output_type": "stream",
     "text": [
      "R^2 training = 0.618804\n"
     ]
    }
   ],
   "source": [
    "ytrpred = regr.predict(xtr)\n",
    "rqtr = 1- np.mean((ytrpred-ytr)**2)/np.std(ytr)**2\n",
    "print(\"R^2 training = %f\" %rqtr)"
   ]
  },
  {
   "cell_type": "code",
   "execution_count": 41,
   "metadata": {},
   "outputs": [
    {
     "name": "stdout",
     "output_type": "stream",
     "text": [
      "Normalized test R^2: 0.663842\n"
     ]
    }
   ],
   "source": [
    "ytspred = regr.predict(xts)\n",
    "rqts = 1-np.mean((ytspred - yts)**2)/np.std(yts)**2\n",
    "print(\"Normalized test R^2: %f\" %rqts )"
   ]
  },
  {
   "cell_type": "code",
   "execution_count": 49,
   "metadata": {},
   "outputs": [
    {
     "data": {
      "image/png": "[encoded data removed]",
      "text/plain": [
       "<Figure size 432x288 with 1 Axes>"
      ]
     },
     "metadata": {
      "needs_background": "light"
     },
     "output_type": "display_data"
    }
   ],
   "source": [
    "plt.scatter(yts,ytspred)\n",
    "ymin = np.min(ytspred)\n",
    "ymin = np.min(yts)\n",
    "ymax = np.max(yts)\n",
    "plt.plot([ymin,ymax],[ymin,ymax], \"r-\",linewidth= 3)\n",
    "plt.grid()\n",
    "plt.show()\n"
   ]
  },
  {
   "cell_type": "code",
   "execution_count": 53,
   "metadata": {},
   "outputs": [
    {
     "name": "stdout",
     "output_type": "stream",
     "text": [
      "    lcavol    0.6416\n",
      "   lweight    0.2162\n",
      "       age   -0.1395\n",
      "      lbph    0.1106\n",
      "       svi    0.1704\n",
      "       lcp    0.0049\n",
      "   gleason    0.0580\n"
     ]
    },
    {
     "data": {
      "text/plain": [
       "<StemContainer object of 3 artists>"
      ]
     },
     "execution_count": 53,
     "metadata": {},
     "output_type": "execute_result"
    },
    {
     "data": {
      "image/png": "[encoded data removed]",
      "text/plain": [
       "<Figure size 432x288 with 1 Axes>"
      ]
     },
     "metadata": {
      "needs_background": "light"
     },
     "output_type": "display_data"
    }
   ],
   "source": [
    "w = regr.coef_\n",
    "for name,wi in zip(names_x,w):\n",
    "    print(\"%10s %9.4f\" %(name,wi))\n",
    "plt.stem(w)"
   ]
  },
  {
   "cell_type": "code",
   "execution_count": 55,
   "metadata": {},
   "outputs": [],
   "source": [
    "import  sklearn.model_selection"
   ]
  },
  {
   "cell_type": "code",
   "execution_count": 74,
   "metadata": {},
   "outputs": [],
   "source": [
    "nfold = 10\n",
    "kf = sklearn.model_selection.KFold(n_splits=nfold,shuffle = True )\n",
    "\n",
    "nalpha = 100\n",
    "alphas = np.logspace(-3,1,nalpha)\n",
    "\n",
    "mse = np.zeros((nalpha,nfold))\n",
    "for ifold, ind in enumerate(kf.split(x)):\n",
    "    itr,its = ind\n",
    "    xtr = x[itr,:]\n",
    "    ytr = y[itr]\n",
    "    xts = x[its,:]\n",
    "    yts = y[its]\n",
    "    \n",
    "    for ia,a in enumerate(alphas):\n",
    "        model = linear_model.Lasso(alpha=a)\n",
    "        model.fit(xtr,ytr)\n",
    "        \n",
    "        ytspred = model.predict(xts)\n",
    "        mse[ia,ifold] = np.mean((ytspred-yts)**2)"
   ]
  },
  {
   "cell_type": "code",
   "execution_count": 76,
   "metadata": {},
   "outputs": [
    {
     "data": {
      "image/png": "[encoded data removed]",
      "text/plain": [
       "<Figure size 432x288 with 1 Axes>"
      ]
     },
     "metadata": {
      "needs_background": "light"
     },
     "output_type": "display_data"
    }
   ],
   "source": [
    "mse_mean = np.mean(mse,axis=1)\n",
    "mse_se = np.std(mse,axis=1) / np.sqrt(nfold-1)\n",
    "plt.errorbar(np.log10(alphas), mse_mean, yerr=mse_se)\n",
    "plt.xlabel('log10(alpha)')\n",
    "plt.ylabel('Test MSE')\n",
    "plt.grid()\n",
    "plt.show()\n"
   ]
  },
  {
   "cell_type": "code",
   "execution_count": 89,
   "metadata": {},
   "outputs": [
    {
     "name": "stdout",
     "output_type": "stream",
     "text": [
      "Optimal alpha 0.138489\n"
     ]
    },
    {
     "data": {
      "text/plain": [
       "(0.35, 1.6)"
      ]
     },
     "execution_count": 89,
     "metadata": {},
     "output_type": "execute_result"
    },
    {
     "data": {
      "image/png": "[encoded data removed]",
      "text/plain": [
       "<Figure size 432x288 with 1 Axes>"
      ]
     },
     "metadata": {
      "needs_background": "light"
     },
     "output_type": "display_data"
    }
   ],
   "source": [
    "imin = np.argmin(mse_mean)\n",
    "mse_tgt = mse_mean[imin]+mse_se[imin]\n",
    "alpha_min = alphas[imin]\n",
    "\n",
    "I = np.where(mse_mean < mse_tgt)[0]\n",
    "iopt = I[-1]\n",
    "alpha_opt = alphas[iopt]\n",
    "print(\"Optimal alpha %f\"%(alpha_opt))\n",
    "\n",
    "plt.errorbar(np.log10(alphas),mse_mean,yerr = mse_se)\n",
    "\n",
    "aminlog = np.log10(alpha_min)\n",
    "aoptlog = np.log10(alpha_opt)\n",
    "\n",
    "plt.plot([aminlog,aoptlog],[mse_tgt,mse_tgt],\"rs-\")\n",
    "\n",
    "plt.plot([aoptlog,aoptlog],[0.35,mse_mean[iopt]],\"ro--\")\n",
    "plt.ylim([0.35,1.6])\n"
   ]
  },
  {
   "cell_type": "code",
   "execution_count": 95,
   "metadata": {},
   "outputs": [
    {
     "name": "stdout",
     "output_type": "stream",
     "text": [
      "  lcavol 0.476808\n",
      " lweight 0.137865\n",
      "     age -0.000000\n",
      "    lbph 0.000000\n",
      "     svi 0.149382\n",
      "     lcp 0.000000\n",
      " gleason 0.000000\n"
     ]
    }
   ],
   "source": [
    "model.alpha = alpha_opt\n",
    "model.fit(x,y)\n",
    "\n",
    "for i,c in enumerate(model.coef_):\n",
    "    print(\"%8s %f\"%(names_x[i],c))"
   ]
  },
  {
   "cell_type": "code",
   "execution_count": 106,
   "metadata": {},
   "outputs": [
    {
     "name": "stdout",
     "output_type": "stream",
     "text": [
      "mse_mean=0.498218 mse SE=0.058235\n",
      "[0.53664741 0.24606348 0.23874626]\n"
     ]
    }
   ],
   "source": [
    "isel = np.where(np.abs(model.coef_) > 1e-3)[0]\n",
    "x1 = x[:,isel]\n",
    "nfeal = len(isel)\n",
    "\n",
    "nfold = 10\n",
    "kf = sklearn.model_selection.KFold(n_splits = nfold, shuffle = True)\n",
    "RSSts = np.zeros((nfold,1))\n",
    "coef = np.zeros((nfold,nfeal))\n",
    "\n",
    "for ifold, ind in enumerate(kf.split(x1)):\n",
    "    itr,its = ind\n",
    "    xtr = x1[itr, :]\n",
    "    ytr = y[itr]\n",
    "    xts = x1[its,:]\n",
    "    yts = y[its]\n",
    "    \n",
    "    regr.fit(xtr,ytr)\n",
    "    ytspred = regr.predict(xts)\n",
    "    \n",
    "    RSSts[ifold] = np.mean((ytspred-yts)**2)/np.std(yts)**2\n",
    "    coef[ifold] = regr.coef_\n",
    "\n",
    "msemean = np.mean(RSSts,axis=0)\n",
    "msese = np.std(RSSts,axis=0) / np.sqrt(nfold-1)\n",
    "coef_mean=np.mean(coef,axis=0)\n",
    "print(\"mse_mean=%f mse SE=%f\" % (msemean, msese))\n",
    "print(coef_mean)"
   ]
  },
  {
   "cell_type": "code",
   "execution_count": 109,
   "metadata": {},
   "outputs": [
    {
     "data": {
      "text/plain": [
       "(-0.2, 0.6)"
      ]
     },
     "execution_count": 109,
     "metadata": {},
     "output_type": "execute_result"
    },
    {
     "data": {
      "image/png": "[encoded data removed]",
      "text/plain": [
       "<Figure size 432x288 with 1 Axes>"
      ]
     },
     "metadata": {
      "needs_background": "light"
     },
     "output_type": "display_data"
    }
   ],
   "source": [
    "alphas1, coeffs, _ = sklearn.linear_model.lasso_path(x,y,alphas = alphas)\n",
    "plt.semilogx(alphas1,coeffs.T)\n",
    "plt.grid()\n",
    "plt.legend(names_x, loc = \"upper right\")\n",
    "\n",
    "plt.semilogx([alpha_opt,alpha_opt],[0.2,0.6],'--')\n",
    "plt.ylim([-0.2,0.6])\n"
   ]
  },
  {
   "cell_type": "code",
   "execution_count": 111,
   "metadata": {},
   "outputs": [],
   "source": [
    "from sklearn.feature_selection import f_regression, mutual_info_regression"
   ]
  },
  {
   "cell_type": "code",
   "execution_count": null,
   "metadata": {},
   "outputs": [],
   "source": []
  }
 ],
 "metadata": {
  "kernelspec": {
   "display_name": "Python 3",
   "language": "python",
   "name": "python3"
  },
  "language_info": {
   "codemirror_mode": {
    "name": "ipython",
    "version": 3
   },
   "file_extension": ".py",
   "mimetype": "text/x-python",
   "name": "python",
   "nbconvert_exporter": "python",
   "pygments_lexer": "ipython3",
   "version": "3.6.7"
  }
 },
 "nbformat": 4,
 "nbformat_minor": 2
}

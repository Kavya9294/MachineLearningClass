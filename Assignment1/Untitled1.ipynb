{
 "cells": [
  {
   "cell_type": "code",
   "execution_count": 21,
   "metadata": {},
   "outputs": [],
   "source": [
    "import numpy as np\n",
    "import matplotlib\n",
    "import matplotlib.pyplot as plt\n",
    "%matplotlib inline"
   ]
  },
  {
   "cell_type": "code",
   "execution_count": 31,
   "metadata": {},
   "outputs": [],
   "source": [
    "from sklearn import datasets, linear_model\n",
    "\n",
    "diabetes = datasets.load_diabetes()\n",
    "X=diabetes.data\n",
    "y= diabetes.target\n"
   ]
  },
  {
   "cell_type": "code",
   "execution_count": 61,
   "metadata": {},
   "outputs": [
    {
     "name": "stdout",
     "output_type": "stream",
     "text": [
      "num samples=442 num attributes=10\n"
     ]
    }
   ],
   "source": [
    "nsamp, natt = X.shape\n",
    "print(\"num samples={0:d} num attributes={1:d}\".format(nsampp,natt))"
   ]
  },
  {
   "cell_type": "code",
   "execution_count": 39,
   "metadata": {},
   "outputs": [
    {
     "name": "stdout",
     "output_type": "stream",
     "text": [
      " 0 Rsq =0.035302 beta0=152.133484 beta1=304.183075\n",
      " 1 Rsq =0.001854 beta0=152.133484 beta1=69.715356\n",
      " 2 Rsq =0.343924 beta0=152.133484 beta1=949.435260\n",
      " 3 Rsq =0.194908 beta0=152.133484 beta1=714.741644\n",
      " 4 Rsq =0.044954 beta0=152.133484 beta1=343.254452\n",
      " 5 Rsq =0.030295 beta0=152.133484 beta1=281.784593\n",
      " 6 Rsq =0.155859 beta0=152.133484 beta1=-639.145279\n",
      " 7 Rsq =0.185290 beta0=152.133484 beta1=696.883030\n",
      " 8 Rsq =0.320224 beta0=152.133484 beta1=916.138723\n",
      " 9 Rsq =0.146294 beta0=152.133484 beta1=619.222821\n"
     ]
    }
   ],
   "source": [
    "ym = np.mean(y)\n",
    "syy = np.mean((y-ym)**2)\n",
    "Rsq = np.zeros(natt)\n",
    "beta0 = np.zeros(natt)\n",
    "beta1 = np.zeros(natt)\n",
    "for k in range(natt):\n",
    "    xm = np.mean(X[:,k])\n",
    "    sxy = np.mean((X[:,k]-xm)*(y-ym))\n",
    "    sxx = np.mean((X[:,k]-xm)**2)\n",
    "    beta1[k]= sxy/sxx\n",
    "    beta0[k]=ym-beta1[k]*xm\n",
    "    Rsq[k]=(sxy)**2/sxx/syy\n",
    "\n",
    "    print(\"{0:2d} Rsq ={1:f} beta0={2:f} beta1={3:f}\".format(k,Rsq[k],beta0[k],beta1[k]))\n"
   ]
  },
  {
   "cell_type": "code",
   "execution_count": 49,
   "metadata": {},
   "outputs": [
    {
     "data": {
      "image/png": "[encoded data removed]",
      "text/plain": [
       "<Figure size 432x288 with 1 Axes>"
      ]
     },
     "metadata": {
      "needs_background": "light"
     },
     "output_type": "display_data"
    }
   ],
   "source": [
    "imax = np.argmax(Rsq)\n",
    "xmin = np.min(X[:,imax])\n",
    "xmax = np.max(X[:,imax])\n",
    "ymin = beta0[imax]+beta1[imax]*xmin\n",
    "ymax = beta0[imax]+beta1[imax]*xmax\n",
    "plt.plot([xmin,xmax], [ymin,ymax],'r-',linewidth = 3)\n",
    "\n",
    "plt.scatter(X[:,imax],y)\n",
    "plt.grid()"
   ]
  },
  {
   "cell_type": "code",
   "execution_count": 55,
   "metadata": {},
   "outputs": [],
   "source": [
    "ym = np.mean(y)\n",
    "y1 = y-ym\n",
    "Xm = np.mean(X,axis=0)\n",
    "X1 = X-Xm[None,:]\n",
    "\n",
    "syy = np.mean(y1**2)\n",
    "sxx=np.mean(X1**2)\n",
    "sxy = np.mean(X1*y1[:,None],axis=0)\n",
    "\n",
    "beta1 = sxy/sxx\n",
    "beta0 = ym - beta1*Xm\n",
    "\n",
    "Rsq = sxy**2/sxx/syy"
   ]
  },
  {
   "cell_type": "code",
   "execution_count": 57,
   "metadata": {},
   "outputs": [
    {
     "name": "stdout",
     "output_type": "stream",
     "text": [
      " 0 Rsq=0.035302 beta0=152.133484 beta1=304.183075\n",
      " 1 Rsq=0.001854 beta0=152.133484 beta1=69.715356\n",
      " 2 Rsq=0.343924 beta0=152.133484 beta1=949.435260\n",
      " 3 Rsq=0.194908 beta0=152.133484 beta1=714.741644\n",
      " 4 Rsq=0.044954 beta0=152.133484 beta1=343.254452\n",
      " 5 Rsq=0.030295 beta0=152.133484 beta1=281.784593\n",
      " 6 Rsq=0.155859 beta0=152.133484 beta1=-639.145279\n",
      " 7 Rsq=0.185290 beta0=152.133484 beta1=696.883030\n",
      " 8 Rsq=0.320224 beta0=152.133484 beta1=916.138723\n",
      " 9 Rsq=0.146294 beta0=152.133484 beta1=619.222821\n"
     ]
    }
   ],
   "source": [
    "for k in range(natt):\n",
    "    print(\"{0:2d} Rsq={1:f} beta0={2:f} beta1={3:f}\".format(k,Rsq[k],beta0[k],beta1[k]))"
   ]
  },
  {
   "cell_type": "code",
   "execution_count": 64,
   "metadata": {},
   "outputs": [],
   "source": [
    "ns_train = 300\n",
    "ns_test = nsamp - ns_train\n",
    "x_tr = X[:ns_train, :]\n",
    "y_tr = y[:ns_train]"
   ]
  },
  {
   "cell_type": "code",
   "execution_count": 67,
   "metadata": {},
   "outputs": [
    {
     "data": {
      "text/plain": [
       "LinearRegression(copy_X=True, fit_intercept=True, n_jobs=None,\n",
       "         normalize=False)"
      ]
     },
     "execution_count": 67,
     "metadata": {},
     "output_type": "execute_result"
    }
   ],
   "source": [
    "regr = linear_model.LinearRegression()\n",
    "regr.fit(x_tr,y_tr)"
   ]
  },
  {
   "cell_type": "code",
   "execution_count": 70,
   "metadata": {},
   "outputs": [
    {
     "data": {
      "text/plain": [
       "152.34786451820108"
      ]
     },
     "execution_count": 70,
     "metadata": {},
     "output_type": "execute_result"
    }
   ],
   "source": [
    "regr.intercept_"
   ]
  },
  {
   "cell_type": "code",
   "execution_count": 72,
   "metadata": {},
   "outputs": [
    {
     "data": {
      "text/plain": [
       "array([ -16.57607993, -254.66532396,  560.98630022,  278.91811152,\n",
       "       -393.41357305,   97.05460405,  -19.0023093 ,  169.46450327,\n",
       "        632.95050374,  114.21638941])"
      ]
     },
     "execution_count": 72,
     "metadata": {},
     "output_type": "execute_result"
    }
   ],
   "source": [
    "regr.coef_"
   ]
  },
  {
   "cell_type": "code",
   "execution_count": 75,
   "metadata": {},
   "outputs": [
    {
     "name": "stdout",
     "output_type": "stream",
     "text": [
      "RSS per sample = 0.485281\n",
      "R^2 =            0.514719\n"
     ]
    }
   ],
   "source": [
    "y_tr_predict = regr.predict(x_tr)\n",
    "RSS_tr = np.mean((y_tr_predict-y_tr)**2)/(np.std(y_tr)**2)\n",
    "Rsq_tr = 1-RSS_tr\n",
    "print(\"RSS per sample = {0:f}\".format(RSS_tr))\n",
    "print(\"R^2 =            {0:f}\".format(Rsq_tr))"
   ]
  },
  {
   "cell_type": "code",
   "execution_count": 79,
   "metadata": {},
   "outputs": [
    {
     "data": {
      "image/png": "[encoded data removed]",
      "text/plain": [
       "<Figure size 432x288 with 1 Axes>"
      ]
     },
     "metadata": {
      "needs_background": "light"
     },
     "output_type": "display_data"
    }
   ],
   "source": [
    "plt.scatter(y_tr,y_tr_predict)\n",
    "plt.plot([0,350],[0,350],\"r\")\n",
    "plt.xlabel('Actual')\n",
    "plt.ylabel('Predicted')\n",
    "plt.grid()"
   ]
  },
  {
   "cell_type": "code",
   "execution_count": 84,
   "metadata": {},
   "outputs": [
    {
     "name": "stdout",
     "output_type": "stream",
     "text": [
      "RSS per sample = 0.492801\n",
      "R^2            = 0.507199\n"
     ]
    }
   ],
   "source": [
    "x_test = X[ns_train:,:]\n",
    "y_test = y[ns_train:]\n",
    "y_test_predict = regr.predict(x_test)\n",
    "RSS_test = np.mean((y_test_predict-y_test)**2)/(np.std(y_test)**2)\n",
    "Rsq_test = 1 - RSS_test\n",
    "print(\"RSS per sample = {0:f}\".format(RSS_test))\n",
    "print(\"R^2            = {0:f}\".format(Rsq_test))"
   ]
  },
  {
   "cell_type": "code",
   "execution_count": 86,
   "metadata": {},
   "outputs": [
    {
     "data": {
      "image/png": "[encoded data removed]",
      "text/plain": [
       "<Figure size 432x288 with 1 Axes>"
      ]
     },
     "metadata": {
      "needs_background": "light"
     },
     "output_type": "display_data"
    }
   ],
   "source": [
    "plt.scatter(y_test,y_test_predict)\n",
    "plt.plot([0,350],[0,350],\"r\")\n",
    "plt.xlabel(\"Actual\")\n",
    "plt.ylabel(\"Predicted\")\n",
    "plt.grid()"
   ]
  },
  {
   "cell_type": "code",
   "execution_count": 90,
   "metadata": {},
   "outputs": [
    {
     "data": {
      "text/plain": [
       "(300, 11)"
      ]
     },
     "execution_count": 90,
     "metadata": {},
     "output_type": "execute_result"
    }
   ],
   "source": [
    "ones = np.ones((ns_train,1))\n",
    "A = np.hstack((ones,x_tr))\n",
    "A.shape"
   ]
  },
  {
   "cell_type": "code",
   "execution_count": 99,
   "metadata": {},
   "outputs": [],
   "source": [
    "out = np.linalg.lstsq(A,y_tr,rcond=None)\n",
    "beta = out[0]"
   ]
  },
  {
   "cell_type": "code",
   "execution_count": 101,
   "metadata": {},
   "outputs": [
    {
     "data": {
      "text/plain": [
       "array([ 152.34786452,  -16.57607993, -254.66532396,  560.98630022,\n",
       "        278.91811152, -393.41357305,   97.05460405,  -19.0023093 ,\n",
       "        169.46450327,  632.95050374,  114.21638941])"
      ]
     },
     "execution_count": 101,
     "metadata": {},
     "output_type": "execute_result"
    }
   ],
   "source": [
    "beta"
   ]
  },
  {
   "cell_type": "code",
   "execution_count": 103,
   "metadata": {},
   "outputs": [
    {
     "data": {
      "text/plain": [
       "152.34786451820108"
      ]
     },
     "execution_count": 103,
     "metadata": {},
     "output_type": "execute_result"
    }
   ],
   "source": [
    "regr.intercept_"
   ]
  },
  {
   "cell_type": "code",
   "execution_count": 106,
   "metadata": {},
   "outputs": [
    {
     "data": {
      "text/plain": [
       "array([ -16.57607993, -254.66532396,  560.98630022,  278.91811152,\n",
       "       -393.41357305,   97.05460405,  -19.0023093 ,  169.46450327,\n",
       "        632.95050374,  114.21638941])"
      ]
     },
     "execution_count": 106,
     "metadata": {},
     "output_type": "execute_result"
    }
   ],
   "source": [
    "regr.coef_"
   ]
  },
  {
   "cell_type": "code",
   "execution_count": 108,
   "metadata": {},
   "outputs": [],
   "source": [
    "Am = np.matrix(A)\n",
    "ym = np.matrix(y_tr)\n",
    "ym = np.transpose(ym)\n",
    "Amt = np.transpose(Am)"
   ]
  },
  {
   "cell_type": "code",
   "execution_count": 110,
   "metadata": {},
   "outputs": [],
   "source": [
    "beta = np.linalg.inv(Amt*Am)*Amt*ym"
   ]
  },
  {
   "cell_type": "code",
   "execution_count": 113,
   "metadata": {},
   "outputs": [
    {
     "data": {
      "text/plain": [
       "matrix([[151.],\n",
       "        [ 75.],\n",
       "        [141.],\n",
       "        [206.],\n",
       "        [135.],\n",
       "        [ 97.],\n",
       "        [138.],\n",
       "        [ 63.],\n",
       "        [110.],\n",
       "        [310.],\n",
       "        [101.],\n",
       "        [ 69.],\n",
       "        [179.],\n",
       "        [185.],\n",
       "        [118.],\n",
       "        [171.],\n",
       "        [166.],\n",
       "        [144.],\n",
       "        [ 97.],\n",
       "        [168.],\n",
       "        [ 68.],\n",
       "        [ 49.],\n",
       "        [ 68.],\n",
       "        [245.],\n",
       "        [184.],\n",
       "        [202.],\n",
       "        [137.],\n",
       "        [ 85.],\n",
       "        [131.],\n",
       "        [283.],\n",
       "        [129.],\n",
       "        [ 59.],\n",
       "        [341.],\n",
       "        [ 87.],\n",
       "        [ 65.],\n",
       "        [102.],\n",
       "        [265.],\n",
       "        [276.],\n",
       "        [252.],\n",
       "        [ 90.],\n",
       "        [100.],\n",
       "        [ 55.],\n",
       "        [ 61.],\n",
       "        [ 92.],\n",
       "        [259.],\n",
       "        [ 53.],\n",
       "        [190.],\n",
       "        [142.],\n",
       "        [ 75.],\n",
       "        [142.],\n",
       "        [155.],\n",
       "        [225.],\n",
       "        [ 59.],\n",
       "        [104.],\n",
       "        [182.],\n",
       "        [128.],\n",
       "        [ 52.],\n",
       "        [ 37.],\n",
       "        [170.],\n",
       "        [170.],\n",
       "        [ 61.],\n",
       "        [144.],\n",
       "        [ 52.],\n",
       "        [128.],\n",
       "        [ 71.],\n",
       "        [163.],\n",
       "        [150.],\n",
       "        [ 97.],\n",
       "        [160.],\n",
       "        [178.],\n",
       "        [ 48.],\n",
       "        [270.],\n",
       "        [202.],\n",
       "        [111.],\n",
       "        [ 85.],\n",
       "        [ 42.],\n",
       "        [170.],\n",
       "        [200.],\n",
       "        [252.],\n",
       "        [113.],\n",
       "        [143.],\n",
       "        [ 51.],\n",
       "        [ 52.],\n",
       "        [210.],\n",
       "        [ 65.],\n",
       "        [141.],\n",
       "        [ 55.],\n",
       "        [134.],\n",
       "        [ 42.],\n",
       "        [111.],\n",
       "        [ 98.],\n",
       "        [164.],\n",
       "        [ 48.],\n",
       "        [ 96.],\n",
       "        [ 90.],\n",
       "        [162.],\n",
       "        [150.],\n",
       "        [279.],\n",
       "        [ 92.],\n",
       "        [ 83.],\n",
       "        [128.],\n",
       "        [102.],\n",
       "        [302.],\n",
       "        [198.],\n",
       "        [ 95.],\n",
       "        [ 53.],\n",
       "        [134.],\n",
       "        [144.],\n",
       "        [232.],\n",
       "        [ 81.],\n",
       "        [104.],\n",
       "        [ 59.],\n",
       "        [246.],\n",
       "        [297.],\n",
       "        [258.],\n",
       "        [229.],\n",
       "        [275.],\n",
       "        [281.],\n",
       "        [179.],\n",
       "        [200.],\n",
       "        [200.],\n",
       "        [173.],\n",
       "        [180.],\n",
       "        [ 84.],\n",
       "        [121.],\n",
       "        [161.],\n",
       "        [ 99.],\n",
       "        [109.],\n",
       "        [115.],\n",
       "        [268.],\n",
       "        [274.],\n",
       "        [158.],\n",
       "        [107.],\n",
       "        [ 83.],\n",
       "        [103.],\n",
       "        [272.],\n",
       "        [ 85.],\n",
       "        [280.],\n",
       "        [336.],\n",
       "        [281.],\n",
       "        [118.],\n",
       "        [317.],\n",
       "        [235.],\n",
       "        [ 60.],\n",
       "        [174.],\n",
       "        [259.],\n",
       "        [178.],\n",
       "        [128.],\n",
       "        [ 96.],\n",
       "        [126.],\n",
       "        [288.],\n",
       "        [ 88.],\n",
       "        [292.],\n",
       "        [ 71.],\n",
       "        [197.],\n",
       "        [186.],\n",
       "        [ 25.],\n",
       "        [ 84.],\n",
       "        [ 96.],\n",
       "        [195.],\n",
       "        [ 53.],\n",
       "        [217.],\n",
       "        [172.],\n",
       "        [131.],\n",
       "        [214.],\n",
       "        [ 59.],\n",
       "        [ 70.],\n",
       "        [220.],\n",
       "        [268.],\n",
       "        [152.],\n",
       "        [ 47.],\n",
       "        [ 74.],\n",
       "        [295.],\n",
       "        [101.],\n",
       "        [151.],\n",
       "        [127.],\n",
       "        [237.],\n",
       "        [225.],\n",
       "        [ 81.],\n",
       "        [151.],\n",
       "        [107.],\n",
       "        [ 64.],\n",
       "        [138.],\n",
       "        [185.],\n",
       "        [265.],\n",
       "        [101.],\n",
       "        [137.],\n",
       "        [143.],\n",
       "        [141.],\n",
       "        [ 79.],\n",
       "        [292.],\n",
       "        [178.],\n",
       "        [ 91.],\n",
       "        [116.],\n",
       "        [ 86.],\n",
       "        [122.],\n",
       "        [ 72.],\n",
       "        [129.],\n",
       "        [142.],\n",
       "        [ 90.],\n",
       "        [158.],\n",
       "        [ 39.],\n",
       "        [196.],\n",
       "        [222.],\n",
       "        [277.],\n",
       "        [ 99.],\n",
       "        [196.],\n",
       "        [202.],\n",
       "        [155.],\n",
       "        [ 77.],\n",
       "        [191.],\n",
       "        [ 70.],\n",
       "        [ 73.],\n",
       "        [ 49.],\n",
       "        [ 65.],\n",
       "        [263.],\n",
       "        [248.],\n",
       "        [296.],\n",
       "        [214.],\n",
       "        [185.],\n",
       "        [ 78.],\n",
       "        [ 93.],\n",
       "        [252.],\n",
       "        [150.],\n",
       "        [ 77.],\n",
       "        [208.],\n",
       "        [ 77.],\n",
       "        [108.],\n",
       "        [160.],\n",
       "        [ 53.],\n",
       "        [220.],\n",
       "        [154.],\n",
       "        [259.],\n",
       "        [ 90.],\n",
       "        [246.],\n",
       "        [124.],\n",
       "        [ 67.],\n",
       "        [ 72.],\n",
       "        [257.],\n",
       "        [262.],\n",
       "        [275.],\n",
       "        [177.],\n",
       "        [ 71.],\n",
       "        [ 47.],\n",
       "        [187.],\n",
       "        [125.],\n",
       "        [ 78.],\n",
       "        [ 51.],\n",
       "        [258.],\n",
       "        [215.],\n",
       "        [303.],\n",
       "        [243.],\n",
       "        [ 91.],\n",
       "        [150.],\n",
       "        [310.],\n",
       "        [153.],\n",
       "        [346.],\n",
       "        [ 63.],\n",
       "        [ 89.],\n",
       "        [ 50.],\n",
       "        [ 39.],\n",
       "        [103.],\n",
       "        [308.],\n",
       "        [116.],\n",
       "        [145.],\n",
       "        [ 74.],\n",
       "        [ 45.],\n",
       "        [115.],\n",
       "        [264.],\n",
       "        [ 87.],\n",
       "        [202.],\n",
       "        [127.],\n",
       "        [182.],\n",
       "        [241.],\n",
       "        [ 66.],\n",
       "        [ 94.],\n",
       "        [283.],\n",
       "        [ 64.],\n",
       "        [102.],\n",
       "        [200.],\n",
       "        [265.],\n",
       "        [ 94.],\n",
       "        [230.],\n",
       "        [181.],\n",
       "        [156.],\n",
       "        [233.],\n",
       "        [ 60.],\n",
       "        [219.],\n",
       "        [ 80.],\n",
       "        [ 68.],\n",
       "        [332.],\n",
       "        [248.],\n",
       "        [ 84.],\n",
       "        [200.],\n",
       "        [ 55.],\n",
       "        [ 85.],\n",
       "        [ 89.],\n",
       "        [ 31.],\n",
       "        [129.],\n",
       "        [ 83.]])"
      ]
     },
     "execution_count": 113,
     "metadata": {},
     "output_type": "execute_result"
    }
   ],
   "source": [
    "ym"
   ]
  },
  {
   "cell_type": "code",
   "execution_count": 121,
   "metadata": {},
   "outputs": [
    {
     "name": "stdout",
     "output_type": "stream",
     "text": [
      "X\n",
      "[[[ 0  1  2  3]\n",
      "  [ 4  5  6  7]\n",
      "  [ 8  9 10 11]]\n",
      "\n",
      " [[12 13 14 15]\n",
      "  [16 17 18 19]\n",
      "  [20 21 22 23]]]\n"
     ]
    }
   ],
   "source": [
    "X = np.arange(24).reshape(2,3,4)  # shape = (2,3,4)\n",
    "Y1 = np.sum(X,axis=0)             # shape = (3,4)\n",
    "Y2 = np.sum(X,axis=1)             # shape = (2,4)\n",
    "\n",
    "print('X')\n",
    "print(X)\n",
    "\n"
   ]
  },
  {
   "cell_type": "code",
   "execution_count": 123,
   "metadata": {},
   "outputs": [
    {
     "data": {
      "text/plain": [
       "array([[12, 14, 16, 18],\n",
       "       [20, 22, 24, 26],\n",
       "       [28, 30, 32, 34]])"
      ]
     },
     "execution_count": 123,
     "metadata": {},
     "output_type": "execute_result"
    }
   ],
   "source": [
    "Y1"
   ]
  },
  {
   "cell_type": "code",
   "execution_count": 127,
   "metadata": {},
   "outputs": [
    {
     "name": "stdout",
     "output_type": "stream",
     "text": [
      "[[0.07057996 0.04517132 0.1261164 ]\n",
      " [0.12377477 0.06722686 0.12094171]\n",
      " [0.06458237 0.07550795 0.06093043]\n",
      " [0.11313205 0.00579399 0.12624218]]\n"
     ]
    }
   ],
   "source": [
    "X = np.random.rand(4,3)\n",
    "Y = X/np.sum(X)\n",
    "print(Y)"
   ]
  },
  {
   "cell_type": "code",
   "execution_count": 153,
   "metadata": {},
   "outputs": [
    {
     "name": "stdout",
     "output_type": "stream",
     "text": [
      "[[0.57229209 0.51886804 0.89700348]\n",
      " [0.01422355 0.72648356 0.65227728]\n",
      " [0.82246149 0.86358214 0.9777094 ]\n",
      " [0.47905866 0.56293583 0.06327408]\n",
      " [0.85989793 0.24332262 0.89995652]]\n",
      "[0.61680917 0.93200973 0.7556121  0.53131242 0.11523039]\n"
     ]
    }
   ],
   "source": [
    "X = np.random.rand(5,3)\n",
    "d = np.random.rand(5)\n",
    "print(X)\n",
    "print(d)\n",
    "Y = np.dot(d[None],X)"
   ]
  },
  {
   "cell_type": "code",
   "execution_count": 152,
   "metadata": {},
   "outputs": [
    {
     "data": {
      "text/plain": [
       "array([[2.03731059, 1.1706406 , 1.47213804]])"
      ]
     },
     "execution_count": 152,
     "metadata": {},
     "output_type": "execute_result"
    }
   ],
   "source": [
    "Y"
   ]
  }
 ],
 "metadata": {
  "kernelspec": {
   "display_name": "Python 3",
   "language": "python",
   "name": "python3"
  },
  "language_info": {
   "codemirror_mode": {
    "name": "ipython",
    "version": 3
   },
   "file_extension": ".py",
   "mimetype": "text/x-python",
   "name": "python",
   "nbconvert_exporter": "python",
   "pygments_lexer": "ipython3",
   "version": "3.6.7"
  }
 },
 "nbformat": 4,
 "nbformat_minor": 2
}

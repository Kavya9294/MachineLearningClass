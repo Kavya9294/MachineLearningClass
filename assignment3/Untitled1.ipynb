{
 "cells": [
  {
   "cell_type": "code",
   "execution_count": 2,
   "metadata": {},
   "outputs": [],
   "source": [
    "import numpy as np\n",
    "import matplotlib.pyplot as plt\n",
    "import pickle\n",
    "\n",
    "from sklearn.linear_model import Lasso, Ridge, ElasticNet\n",
    "from sklearn.metrics import r2_score\n",
    "from sklearn.model_selection import train_test_split"
   ]
  },
  {
   "cell_type": "code",
   "execution_count": 3,
   "metadata": {},
   "outputs": [
    {
     "name": "stdout",
     "output_type": "stream",
     "text": [
      "File eeg_dat.p is already downloaded\n"
     ]
    }
   ],
   "source": [
    "fn_src ='https://drive.google.com/uc?export=download&id=1RzQpKONOcXSMxH2ZzOI4iVMiTgD6ttSl'\n",
    "fn_dst ='eeg_dat.p'\n",
    "\n",
    "import os\n",
    "from six.moves import urllib\n",
    "\n",
    "if os.path.isfile(fn_dst):\n",
    "    print('File %s is already downloaded' % fn_dst)\n",
    "else:        \n",
    "    print('Fetching file %s [53MB].  This may take a minute..' % fn_dst)\n",
    "    urllib.request.urlretrieve(fn_src, fn_dst)\n",
    "    print('File %s downloaded' % fn_dst)"
   ]
  },
  {
   "cell_type": "code",
   "execution_count": 4,
   "metadata": {},
   "outputs": [],
   "source": [
    "import pickle\n",
    "fn = 'eeg_dat.p'\n",
    "with open(fn, 'rb') as fp:\n",
    "    [X,Y] = pickle.load(fp)"
   ]
  },
  {
   "cell_type": "code",
   "execution_count": 5,
   "metadata": {},
   "outputs": [
    {
     "name": "stdout",
     "output_type": "stream",
     "text": [
      "nchan = 305, ncur = 22494, nt = 85 , nvoxels = 7498\n"
     ]
    }
   ],
   "source": [
    "nchan, ncur = X.shape\n",
    "_, nt = Y.shape\n",
    "nvoxels = ncur/3\n",
    "print(\"nchan = %d, ncur = %d, nt = %d , nvoxels = %d\"%(nchan,ncur, nt, nvoxels))"
   ]
  },
  {
   "cell_type": "code",
   "execution_count": 6,
   "metadata": {},
   "outputs": [],
   "source": [
    "Xtr,Xts,ytr,yts = train_test_split(X,Y, test_size = 0.33, shuffle = True)"
   ]
  },
  {
   "cell_type": "code",
   "execution_count": 7,
   "metadata": {},
   "outputs": [
    {
     "data": {
      "text/plain": [
       "Ridge(alpha=1, copy_X=True, fit_intercept=True, max_iter=None,\n",
       "   normalize=False, random_state=None, solver='auto', tol=0.001)"
      ]
     },
     "execution_count": 7,
     "metadata": {},
     "output_type": "execute_result"
    }
   ],
   "source": [
    "regr = Ridge(alpha = 1)\n",
    "regr.fit(Xtr,ytr)"
   ]
  },
  {
   "cell_type": "code",
   "execution_count": 8,
   "metadata": {},
   "outputs": [
    {
     "name": "stdout",
     "output_type": "stream",
     "text": [
      "0.6266105948261262\n",
      "0.13036109655674016\n"
     ]
    }
   ],
   "source": [
    "ytrPred = regr.predict(Xtr)\n",
    "rsq_tr = r2_score(ytr,ytrPred)\n",
    "print(rsq_tr)\n",
    "ytsPred = regr.predict(Xts)\n",
    "rsq_ts = r2_score(yts, ytsPred)\n",
    "print(rsq_ts)"
   ]
  },
  {
   "cell_type": "code",
   "execution_count": 9,
   "metadata": {},
   "outputs": [
    {
     "name": "stdout",
     "output_type": "stream",
     "text": [
      "[1.00000000e-02 1.62377674e-02 2.63665090e-02 4.28133240e-02\n",
      " 6.95192796e-02 1.12883789e-01 1.83298071e-01 2.97635144e-01\n",
      " 4.83293024e-01 7.84759970e-01 1.27427499e+00 2.06913808e+00\n",
      " 3.35981829e+00 5.45559478e+00 8.85866790e+00 1.43844989e+01\n",
      " 2.33572147e+01 3.79269019e+01 6.15848211e+01 1.00000000e+02]\n"
     ]
    }
   ],
   "source": [
    "nalphas = 20\n",
    "alphas = np.logspace(-2,2, nalphas)\n",
    "rssts = np.zeros((nalphas,1))\n",
    "print(alphas)\n",
    "for i, alph in enumerate(alphas):\n",
    "    regr = Ridge(alpha = alph)\n",
    "    regr.fit(Xtr,ytr)\n",
    "    testPred = regr.predict(Xts)\n",
    "    rssts[i] = r2_score(yts,testPred)"
   ]
  },
  {
   "cell_type": "code",
   "execution_count": 13,
   "metadata": {},
   "outputs": [
    {
     "name": "stdout",
     "output_type": "stream",
     "text": [
      "Maximum R^2: 0.133155\n"
     ]
    },
    {
     "data": {
      "image/png": "[encoded data removed]",
      "text/plain": [
       "<Figure size 432x288 with 1 Axes>"
      ]
     },
     "metadata": {
      "needs_background": "light"
     },
     "output_type": "display_data"
    }
   ],
   "source": [
    "plt.plot(np.log10(alphas),rssts)\n",
    "plt.grid()\n",
    "plt.ylabel(\"Rss values\")\n",
    "plt.xlabel(\"alpha\")\n",
    "print(\"Maximum R^2: %f\"%(max(rssts)))"
   ]
  },
  {
   "cell_type": "code",
   "execution_count": 14,
   "metadata": {},
   "outputs": [],
   "source": [
    "iopt = np.argmax(rssts)\n",
    "alphaopt = alphas[iopt]\n",
    "regr = Ridge(alpha = alphaopt)\n",
    "regr.fit(Xtr,ytr)\n",
    "ytsoptPred = regr.predict(Xts)\n",
    "W = regr.coef_\n",
    "W = np.transpose(W)\n",
    "Wrms = np.zeros((ncur))\n",
    "Wrms = np.sqrt(np.sum(W**2,axis=1))\n"
   ]
  },
  {
   "cell_type": "code",
   "execution_count": 18,
   "metadata": {},
   "outputs": [
    {
     "data": {
      "text/plain": [
       "Lasso(alpha=0.001, copy_X=True, fit_intercept=True, max_iter=100,\n",
       "   normalize=False, positive=False, precompute=False, random_state=None,\n",
       "   selection='cyclic', tol=0.01, warm_start=False)"
      ]
     },
     "execution_count": 18,
     "metadata": {},
     "output_type": "execute_result"
    }
   ],
   "source": [
    "alpha_lasso = 1e-3\n",
    "model = Lasso(alpha = alpha_lasso, max_iter = 100, tol = 0.01)\n",
    "model.fit(Xtr,ytr)\n"
   ]
  },
  {
   "cell_type": "code",
   "execution_count": 41,
   "metadata": {},
   "outputs": [
    {
     "name": "stdout",
     "output_type": "stream",
     "text": [
      "0.18450312474471225\n"
     ]
    },
    {
     "data": {
      "text/plain": [
       "(101, 85)"
      ]
     },
     "execution_count": 41,
     "metadata": {},
     "output_type": "execute_result"
    }
   ],
   "source": [
    "ytsLPred = model.predict(Xts)\n",
    "rsq_lasso = r2_score(yts, ytsLPred)\n",
    "print(rsq_lasso)\n",
    "ytsLPred.shape"
   ]
  },
  {
   "cell_type": "code",
   "execution_count": 47,
   "metadata": {},
   "outputs": [],
   "source": [
    "lAphlas = np.logspace(-3,-4,5)\n",
    "rss_lasso = np.zeros(5)\n",
    "coeffs = np.zeros((5,nt,ncur))\n",
    "x,y = yts.shape\n",
    "ytsPred = np.zeros((5,x,y))\n",
    "for i, alph in enumerate(lAphlas):\n",
    "    model = Lasso(alpha = alph, max_iter = 100, tol = 0.01)\n",
    "    model.fit(Xtr,ytr)\n",
    "    ytsPred[i] = model.predict(Xts)\n",
    "    rss_lasso[i] = r2_score(yts,ytsPred[i])\n",
    "    coeffs[i] = model.coef_\n",
    "\n"
   ]
  },
  {
   "cell_type": "code",
   "execution_count": 48,
   "metadata": {},
   "outputs": [
    {
     "name": "stdout",
     "output_type": "stream",
     "text": [
      "Maximum R^2: 0.276831\n"
     ]
    },
    {
     "data": {
      "image/png": "[encoded data removed]",
      "text/plain": [
       "<Figure size 432x288 with 1 Axes>"
      ]
     },
     "metadata": {
      "needs_background": "light"
     },
     "output_type": "display_data"
    }
   ],
   "source": [
    "plt.plot(np.log10(lAphlas),rss_lasso)\n",
    "plt.grid()\n",
    "plt.ylabel(\"Rss values\")\n",
    "plt.xlabel(\"alpha\")\n",
    "print(\"Maximum R^2: %f\"%(max(rss_lasso)))"
   ]
  },
  {
   "cell_type": "code",
   "execution_count": 53,
   "metadata": {},
   "outputs": [
    {
     "name": "stdout",
     "output_type": "stream",
     "text": [
      "[[ 0.  0.  0. ... -0. -0. -0.]\n",
      " [-0. -0. -0. ... -0. -0. -0.]\n",
      " [-0. -0. -0. ... -0. -0. -0.]\n",
      " ...\n",
      " [ 0.  0.  0. ...  0.  0.  0.]\n",
      " [-0. -0. -0. ... -0. -0. -0.]\n",
      " [-0. -0. -0. ... -0. -0. -0.]]\n",
      "[0. 0. 0. ... 0. 0. 0.]\n"
     ]
    }
   ],
   "source": [
    "iopt = np.argmax(rss_lasso)\n",
    "alphaopt = alphas[iopt]\n",
    "\n",
    "ytsoptPred = ytsPred[iopt]\n",
    "W = coeffs[iopt]\n",
    "W = np.transpose(W)\n",
    "Wrms = np.zeros((ncur))\n",
    "Wrms = np.sqrt(np.sum(W**2,axis=1))\n",
    "print(W)\n",
    "print(Wrms)"
   ]
  }
 ],
 "metadata": {
  "kernelspec": {
   "display_name": "Python 3",
   "language": "python",
   "name": "python3"
  },
  "language_info": {
   "codemirror_mode": {
    "name": "ipython",
    "version": 3
   },
   "file_extension": ".py",
   "mimetype": "text/x-python",
   "name": "python",
   "nbconvert_exporter": "python",
   "pygments_lexer": "ipython3",
   "version": "3.6.7"
  }
 },
 "nbformat": 4,
 "nbformat_minor": 2
}
